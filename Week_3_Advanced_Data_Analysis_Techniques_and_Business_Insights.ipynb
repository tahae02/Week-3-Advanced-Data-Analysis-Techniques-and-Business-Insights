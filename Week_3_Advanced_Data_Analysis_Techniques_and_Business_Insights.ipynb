{
  "nbformat": 4,
  "nbformat_minor": 0,
  "metadata": {
    "colab": {
      "provenance": [],
      "mount_file_id": "131jlip-zpQPGTnoPLPTyHpk11QGvuNm_",
      "authorship_tag": "ABX9TyNhWTh6+wIlhVWoMzaQwjRx",
      "include_colab_link": true
    },
    "kernelspec": {
      "name": "python3",
      "display_name": "Python 3"
    },
    "language_info": {
      "name": "python"
    }
  },
  "cells": [
    {
      "cell_type": "markdown",
      "metadata": {
        "id": "view-in-github",
        "colab_type": "text"
      },
      "source": [
        "<a href=\"https://colab.research.google.com/github/tahae02/Week-3-Advanced-Data-Analysis-Techniques-and-Business-Insights/blob/main/Week_3_Advanced_Data_Analysis_Techniques_and_Business_Insights.ipynb\" target=\"_parent\"><img src=\"https://colab.research.google.com/assets/colab-badge.svg\" alt=\"Open In Colab\"/></a>"
      ]
    },
    {
      "cell_type": "markdown",
      "source": [
        "# This notebook contains all the data cleaning, visualisations and machine learning algorithm"
      ],
      "metadata": {
        "id": "NlfzDaEjynv3"
      }
    },
    {
      "cell_type": "code",
      "execution_count": null,
      "metadata": {
        "id": "SsyRGQ59yf3W"
      },
      "outputs": [],
      "source": [
        "import pandas as pd\n",
        "import numpy as np\n",
        "import scikit-learn as sk\n",
        "import matplotlib.pyplot as plt\n",
        "import seaborn as sns\n",
        "\n"
      ]
    }
  ]
}